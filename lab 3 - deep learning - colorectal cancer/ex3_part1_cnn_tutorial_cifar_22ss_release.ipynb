{
 "cells": [
  {
   "cell_type": "markdown",
   "metadata": {},
   "source": [
    "# Lab 3a: Neural Networks and Deep Learning\n",
    "\n",
    "*Version 3.0, Summer Semester 2022*\n",
    "\n",
    "In the 3a lab, you will **train a convolutional neural network** that trains on 50,000 images to classify between 10 different object categories. The data source is one of the famous datasets, called [CIFAR10](https://www.cs.toronto.edu/%7Ekriz/cifar.html).\n",
    "\n",
    "Sounds difficult? You'll see that it consists of the same basic building steps as our examples before. In the end, you will just need to write a few lines of code. To make your life a bit easier, you will work based on a **TensorFlow tutorial**.\n",
    "\n",
    "### Environment Setup\n",
    "\n",
    "First, make sure your environment is set up correctly - see the slides for details. If you have not done so yet, install `tensorflow` and `tensorflow-datasets` using the Anaconda Navigator. If you execute the notebook on the FHSTP JupyterHub or on Google Colab, you're ready to go. If you have followed along with the examples of the deep learning lecture, everything should be ready to go."
   ]
  },
  {
   "cell_type": "markdown",
   "metadata": {},
   "source": [
    "## Your Tasks"
   ]
  },
  {
   "cell_type": "markdown",
   "metadata": {},
   "source": [
    "There are a lot of tutorials and resources for machine learning out there, and we don't want to re-invent the wheel. Therefore, the coding part of this exercise is simple – it's mainly copy & paste from one of the official Google example.\n",
    "\n",
    "However, what you should learn is different: you should try to understand what's happening! These are your tasks:\n",
    "\n",
    "1. **Follow the steps** of the [Convolutional Neural Networks (CNN)](https://www.tensorflow.org/tutorials/images/cnn) tutorial by Google. Write the code in the cells below. Like in the example, your model should output the test accuracy at the end.\n",
    "2. **Create a short video** where you verbally answer the questions below based on your code and your won further explanation. You can for example just make a teams call with only yourself, share your screen and start a recording.\n",
    "\n",
    "This file has no automated tests that will be graded. The points for this exercise part are based on your answers to the questions in the video."
   ]
  },
  {
   "cell_type": "markdown",
   "metadata": {},
   "source": [
    "### Answer these Questions in the Video\n",
    "\n",
    "**Preprocessing**\n",
    "\n",
    "1. How many training samples do we have?\n",
    "2. Why are the images 32x32x3 - what does the 3 mean?\n",
    "3. What exactly does the /255.0 reduce - the image size, colors, ...? Do colors get lost?\n",
    "\n",
    "**Neural Network Design**\n",
    "\n",
    "4. Why does the size of the images decrease after each `conv2d` layer?\n",
    "5. Why do we use multiple conv2d layers?\n",
    "6. What effect does a pooling layer size of 2x2 have?\n",
    "7. Why don't the max pooling layers have trainable parameters (see model summary)?\n",
    "8. Why does the flatten layer have 1024 values (see model summary)?\n",
    "\n",
    "**Results**\n",
    "\n",
    "9. Why is the validation accuracy lower than the train accuracy at the end?\n",
    "10. What is the baseline for the accuracy (= if you do random guessing), and how much better is our neural network doing compared to that?"
   ]
  },
  {
   "cell_type": "markdown",
   "metadata": {},
   "source": [
    "### Video instructions\n",
    "\n",
    "The main aim of the video is that you showcase that the code works in your environment and that you understand what's happening.\n",
    "\n",
    "* **Recording:** Use a screenrecording tool (like Camtasisa), or simply create a meeting with only yourself in Microsoft Teams etc and start the recording in the app.\n",
    "* **Length:** Keep it short – the overall video duration should be around 5 minutes.\n",
    "* **Contents:** Don't explain your Jupyter environment setup, or every line that you've written. Focus on the answering the questions. Remember: the code is from the tutorial, you don't need to show that to me; only use it as a reference for answering the ten questions.\n",
    "* **Editing:** Keep it simple. No need for any title slide, editing, effects, etc. Just the plain screen recording with your voice-over.\n",
    "* **Upload:** If the video is small enough, you can upload the finished video (e.g,. .mp4 file) to eCampus. You can also directly share the recording from Microsoft Teams / OneDrive. Alternatively, you can upload to YouTube as an unlisted video and hand in the link. "
   ]
  },
  {
   "cell_type": "markdown",
   "metadata": {},
   "source": [
    "## Start!\n",
    "\n",
    "Next, write **your name** in the following cell:"
   ]
  },
  {
   "cell_type": "markdown",
   "metadata": {},
   "source": [
    "\\>> "
   ]
  },
  {
   "cell_type": "markdown",
   "metadata": {},
   "source": [
    "### Code\n",
    "\n",
    "Now, start coding based on [Convolutional Neural Networks (CNN)](https://www.tensorflow.org/tutorials/images/cnn). Add as many code cells you need! The first code block for the imports is already here; then continue on your own!"
   ]
  },
  {
   "cell_type": "code",
   "execution_count": null,
   "metadata": {},
   "outputs": [],
   "source": [
    "import tensorflow as tf\n",
    "\n",
    "from tensorflow.keras import datasets, layers, models\n",
    "import matplotlib.pyplot as plt"
   ]
  },
  {
   "cell_type": "code",
   "execution_count": null,
   "metadata": {},
   "outputs": [],
   "source": []
  }
 ],
 "metadata": {
  "kernelspec": {
   "display_name": "Python 3",
   "language": "python",
   "name": "python3"
  },
  "language_info": {
   "codemirror_mode": {
    "name": "ipython",
    "version": 3
   },
   "file_extension": ".py",
   "mimetype": "text/x-python",
   "name": "python",
   "nbconvert_exporter": "python",
   "pygments_lexer": "ipython3",
   "version": "3.7.3"
  }
 },
 "nbformat": 4,
 "nbformat_minor": 4
}
