{
 "cells": [
  {
   "cell_type": "markdown",
   "metadata": {
    "deletable": false,
    "editable": false,
    "nbgrader": {
     "cell_type": "markdown",
     "checksum": "7922753b369b59f8122a15626fbb22df",
     "grade": false,
     "grade_id": "cell-90cb6b8793cd7b6e",
     "locked": true,
     "schema_version": 3,
     "solution": false,
     "task": false
    }
   },
   "source": [
    "# Exercise 1: Development Basics\n",
    "\n",
    "Version 5.0, Summer Semester 2022\n",
    "\n",
    "## Part 1: Python\n",
    "\n",
    "If you want to learn more about Python, the following course is recommended: [Python Essential Training](https://www.linkedin.com/learning/python-essential-training-2) on LinkedIn Learning (or Lynda). Chapters 2-7 are mostly relevant.\n",
    "\n",
    "There are also some cheat sheets you can use to remind yourself of the basic concepts in python:\n",
    "* [Python 3 Cheat Sheet](https://groklearning-cdn.com/resources/cheatsheet-python-1.pdf) by GROK Learning\n",
    "* [Python 3 Cheat Sheet](https://perso.limsi.fr/pointal/_media/python:cours:mementopython3-english.pdf) by Laurent Pointal"
   ]
  },
  {
   "cell_type": "markdown",
   "metadata": {},
   "source": [
    "## Exercise 1.1: Your Name & Comments\n",
    "\n",
    "Write your first name, family name and student ID number as Python comments:"
   ]
  },
  {
   "cell_type": "code",
   "execution_count": 1,
   "metadata": {
    "deletable": false,
    "nbgrader": {
     "cell_type": "code",
     "checksum": "8187420fc54f28d0fd7a30c7bc59166e",
     "grade": true,
     "grade_id": "comment",
     "locked": false,
     "points": 1,
     "schema_version": 3,
     "solution": true,
     "task": false
    }
   },
   "outputs": [
    {
     "ename": "NotImplementedError",
     "evalue": "",
     "output_type": "error",
     "traceback": [
      "\u001b[0;31m---------------------------------------------------------------------------\u001b[0m",
      "\u001b[0;31mNotImplementedError\u001b[0m                       Traceback (most recent call last)",
      "\u001b[0;32m<ipython-input-1-15b94d1fa268>\u001b[0m in \u001b[0;36m<module>\u001b[0;34m\u001b[0m\n\u001b[1;32m      1\u001b[0m \u001b[0;31m# YOUR CODE HERE\u001b[0m\u001b[0;34m\u001b[0m\u001b[0;34m\u001b[0m\u001b[0;34m\u001b[0m\u001b[0m\n\u001b[0;32m----> 2\u001b[0;31m \u001b[0;32mraise\u001b[0m \u001b[0mNotImplementedError\u001b[0m\u001b[0;34m(\u001b[0m\u001b[0;34m)\u001b[0m\u001b[0;34m\u001b[0m\u001b[0;34m\u001b[0m\u001b[0m\n\u001b[0m",
      "\u001b[0;31mNotImplementedError\u001b[0m: "
     ]
    }
   ],
   "source": [
    "# YOUR CODE HERE\n",
    "raise NotImplementedError()"
   ]
  },
  {
   "cell_type": "markdown",
   "metadata": {
    "deletable": false,
    "editable": false,
    "nbgrader": {
     "cell_type": "markdown",
     "checksum": "0817d77f1a36ecf80c77feeacda9fbc1",
     "grade": false,
     "grade_id": "cell-f48ce287f6ac4ae7",
     "locked": true,
     "schema_version": 3,
     "solution": false,
     "task": false
    }
   },
   "source": [
    "## Exercise 1.2: String Variables and Assignments\n",
    "\n",
    "Assign to a variable `s1` your first name as a string and to a variable `s2` your family name as a string. Concatinate those two strings into a new variable `s3` so that there is a space between the names, e.g. \"Max Müller\". Print variable `s3`. "
   ]
  },
  {
   "cell_type": "code",
   "execution_count": null,
   "metadata": {
    "deletable": false,
    "nbgrader": {
     "cell_type": "code",
     "checksum": "718766cbb8a918229963e8ce350cadc1",
     "grade": false,
     "grade_id": "string",
     "locked": false,
     "schema_version": 3,
     "solution": true,
     "task": false
    }
   },
   "outputs": [],
   "source": [
    "# YOUR CODE HERE\n",
    "raise NotImplementedError()"
   ]
  },
  {
   "cell_type": "code",
   "execution_count": null,
   "metadata": {
    "deletable": false,
    "editable": false,
    "nbgrader": {
     "cell_type": "code",
     "checksum": "b71ef50ad13f224719752d655bbf7218",
     "grade": true,
     "grade_id": "string-test",
     "locked": true,
     "points": 2,
     "schema_version": 3,
     "solution": false,
     "task": false
    }
   },
   "outputs": [],
   "source": [
    "assert len(s1) > 0\n",
    "assert len(s2) > 0"
   ]
  },
  {
   "cell_type": "markdown",
   "metadata": {
    "deletable": false,
    "editable": false,
    "nbgrader": {
     "cell_type": "markdown",
     "checksum": "694be1e43857a75df964188538f5f38f",
     "grade": false,
     "grade_id": "cell-22896817446e5e44",
     "locked": true,
     "schema_version": 3,
     "solution": false,
     "task": false
    }
   },
   "source": [
    "## Exercise 1.3: Numeric Variables\n",
    "\n",
    "Assign to a variable `x` the value 10 and to a variable `y` the value 5. You should perform basic arithmetic operations: a) add, b) subtract, c) divide, and d) multiply the two variables and save the results into new variables with the corresponding names (called `add`, `sub`, `div`, `mul`).\n",
    "\n",
    "Output the results by calling the `print( )` function only once: concatenate all results to one string.\n",
    "\n",
    "**Hint:** you can use the `f` syntax or the `format( )` function inside the print function to insert values of variables in a string. "
   ]
  },
  {
   "cell_type": "code",
   "execution_count": null,
   "metadata": {
    "deletable": false,
    "nbgrader": {
     "cell_type": "code",
     "checksum": "73933e4028a36e19e18e24423fcd8dd6",
     "grade": false,
     "grade_id": "variables",
     "locked": false,
     "schema_version": 3,
     "solution": true,
     "task": false
    }
   },
   "outputs": [],
   "source": [
    "# YOUR CODE HERE\n",
    "raise NotImplementedError()"
   ]
  },
  {
   "cell_type": "code",
   "execution_count": null,
   "metadata": {
    "deletable": false,
    "editable": false,
    "nbgrader": {
     "cell_type": "code",
     "checksum": "f9c8030bec78cb5f5272de44479b0bf3",
     "grade": true,
     "grade_id": "variables-test",
     "locked": true,
     "points": 2,
     "schema_version": 3,
     "solution": false,
     "task": false
    }
   },
   "outputs": [],
   "source": [
    "assert x == 10\n",
    "assert y == 5\n",
    "assert add == 15\n",
    "assert sub > 0\n",
    "assert div > 0\n",
    "assert mul > 0"
   ]
  },
  {
   "cell_type": "markdown",
   "metadata": {},
   "source": [
    "**Additionally:** print the type of variable `x` and the type of the variable containing the result of the division (`div`)."
   ]
  },
  {
   "cell_type": "code",
   "execution_count": null,
   "metadata": {
    "deletable": false,
    "nbgrader": {
     "cell_type": "code",
     "checksum": "9b40a4e2f0aad97d8a01483cf871686b",
     "grade": false,
     "grade_id": "types",
     "locked": false,
     "schema_version": 3,
     "solution": true,
     "task": false
    }
   },
   "outputs": [],
   "source": [
    "# YOUR CODE HERE\n",
    "raise NotImplementedError()"
   ]
  },
  {
   "cell_type": "markdown",
   "metadata": {
    "deletable": false,
    "editable": false,
    "nbgrader": {
     "cell_type": "markdown",
     "checksum": "30046bddfcac376b25f62467cfb1913c",
     "grade": false,
     "grade_id": "cell-fe672b777b3c4d23",
     "locked": true,
     "schema_version": 3,
     "solution": false,
     "task": false
    }
   },
   "source": [
    "**Explain:** Why are the data types different? Write your explanation in a markdown cell below."
   ]
  },
  {
   "cell_type": "markdown",
   "metadata": {
    "deletable": false,
    "nbgrader": {
     "cell_type": "markdown",
     "checksum": "45945bc4d398b6f90f8a8de13c0b74d8",
     "grade": true,
     "grade_id": "types-reason",
     "locked": false,
     "points": 1,
     "schema_version": 3,
     "solution": true,
     "task": false
    }
   },
   "source": [
    "YOUR ANSWER HERE"
   ]
  },
  {
   "cell_type": "markdown",
   "metadata": {
    "deletable": false,
    "editable": false,
    "nbgrader": {
     "cell_type": "markdown",
     "checksum": "13711c0a3806256a2aaf6b3912c1a548",
     "grade": false,
     "grade_id": "cell-441d420b408e0a84",
     "locked": true,
     "schema_version": 3,
     "solution": false,
     "task": false
    }
   },
   "source": [
    "## Exercise 1.4: Functions\n",
    "\n",
    "Define a function called `myMultiplication`, which should have two parameters `a` (default value: 5) and `b` (default value: 2). In the function you should implement an algorithm which calculates the multiplication of the two parameters by employing only one `for` or `while` loop and addition `+`. Do not use the multiplication operator `*`, instead use a loop to compute `a*b` by adding up `a` to `a` for `b` times). \n",
    "\n",
    "a) Call the function once without parameters and print the result. This should use the standard values for `a` and `b`.\n",
    "\n",
    "b) Call the function with the last and the penultimate number of your students ID-Number. Print the result and than also your students ID-Number in following form - example: `My ID is: 1733456 and the result of myMultiplication is: 30` \n",
    "Explanation: ID = 1733456, last number = 6, penultimate = 5, result = 5\\*6\n",
    "\n",
    "*Hint:* there are different approaches to solving this. You can for example create a variable within the function to store the current sum and continually add the value of one variable; repeating the process as many times as indicated by the other variable. The `range()` function can be useful for executing a loop a certain number of times. "
   ]
  },
  {
   "cell_type": "code",
   "execution_count": null,
   "metadata": {
    "deletable": false,
    "nbgrader": {
     "cell_type": "code",
     "checksum": "1fadafa2712b3e04ac572097c81b3029",
     "grade": false,
     "grade_id": "function",
     "locked": false,
     "schema_version": 3,
     "solution": true,
     "task": false
    }
   },
   "outputs": [],
   "source": [
    "def myMultiplication(a = 5, b = 2):\n",
    "    # YOUR CODE HERE\n",
    "    raise NotImplementedError()\n",
    "\n",
    "print(myMultiplication())\n",
    "idnumber = myMultiplication(6, 5)\n",
    "print(f\"My ID is: 1733456 and the result of myMultiplication is: {idnumber}\")"
   ]
  },
  {
   "cell_type": "code",
   "execution_count": null,
   "metadata": {
    "deletable": false,
    "editable": false,
    "nbgrader": {
     "cell_type": "code",
     "checksum": "769e9d0a01bce51fc931a774324d2990",
     "grade": true,
     "grade_id": "function-test",
     "locked": true,
     "points": 3,
     "schema_version": 3,
     "solution": false,
     "task": false
    }
   },
   "outputs": [],
   "source": [
    "assert myMultiplication(0,0) == 0\n",
    "assert myMultiplication(1,0) == 0\n",
    "assert myMultiplication(1,1) == 1\n",
    "assert myMultiplication(6,5) == 30"
   ]
  },
  {
   "cell_type": "markdown",
   "metadata": {
    "deletable": false,
    "editable": false,
    "nbgrader": {
     "cell_type": "markdown",
     "checksum": "2926f27f27895078109cc50c913c34db",
     "grade": false,
     "grade_id": "cell-c07d3d4425ad859f",
     "locked": true,
     "schema_version": 3,
     "solution": false,
     "task": false
    }
   },
   "source": [
    "## Exercise 1.5: If\n",
    "\n",
    "Write a function called `isPositiveOrNegative()` that has a parameter `s`. The parameter should be able to accept a string containing a number written as text. \n",
    "\n",
    "Convert the string into a float (search for how to perform that; you will find a direct answer for example on Stack Overflow). Check if the input is greater, equal or smaller than zero. If it is greater than zero, return \"positive\"; if it is equal to zero return \"zero\"; and if it is smaller than zero return \"negative\"."
   ]
  },
  {
   "cell_type": "code",
   "execution_count": null,
   "metadata": {
    "deletable": false,
    "nbgrader": {
     "cell_type": "code",
     "checksum": "1c703d122e6372c4732b146c58a8391f",
     "grade": false,
     "grade_id": "if",
     "locked": false,
     "schema_version": 3,
     "solution": true,
     "task": false
    }
   },
   "outputs": [],
   "source": [
    "def isPositiveOrNegative(s):\n",
    "    # YOUR CODE HERE\n",
    "    raise NotImplementedError()"
   ]
  },
  {
   "cell_type": "code",
   "execution_count": null,
   "metadata": {},
   "outputs": [],
   "source": [
    "# This should return negative\n",
    "print(isPositiveOrNegative(\"-5.2\"))"
   ]
  },
  {
   "cell_type": "code",
   "execution_count": null,
   "metadata": {
    "deletable": false,
    "editable": false,
    "nbgrader": {
     "cell_type": "code",
     "checksum": "84e1e41334e932e52b3c2f15596a5948",
     "grade": true,
     "grade_id": "if-test",
     "locked": true,
     "points": 3,
     "schema_version": 3,
     "solution": false,
     "task": false
    }
   },
   "outputs": [],
   "source": [
    "assert isPositiveOrNegative(\"-5.2\") == \"negative\"\n",
    "assert isPositiveOrNegative(\"5\") == \"positive\"\n",
    "assert isPositiveOrNegative(\"0.1\") == \"positive\"\n",
    "assert isPositiveOrNegative(\"0\") == \"zero\"\n",
    "assert isPositiveOrNegative(\"-0.1\") == \"negative\"\n",
    "assert isPositiveOrNegative(0) == \"zero\"\n",
    "assert isPositiveOrNegative(1.353) == \"positive\"\n",
    "assert isPositiveOrNegative(-5) == \"negative\""
   ]
  }
 ],
 "metadata": {
  "kernelspec": {
   "display_name": "Python 3",
   "language": "python",
   "name": "python3"
  },
  "language_info": {
   "codemirror_mode": {
    "name": "ipython",
    "version": 3
   },
   "file_extension": ".py",
   "mimetype": "text/x-python",
   "name": "python",
   "nbconvert_exporter": "python",
   "pygments_lexer": "ipython3",
   "version": "3.7.3"
  }
 },
 "nbformat": 4,
 "nbformat_minor": 4
}
