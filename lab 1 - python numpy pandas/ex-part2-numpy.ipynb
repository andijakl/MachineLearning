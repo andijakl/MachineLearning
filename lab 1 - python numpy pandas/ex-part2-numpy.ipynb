{
 "cells": [
  {
   "cell_type": "markdown",
   "metadata": {},
   "source": [
    "Before you turn this problem in, make sure everything runs as expected. First, **restart the kernel** (in the menubar, select Kernel$\\rightarrow$Restart) and then **run all cells** (in the menubar, select Cell$\\rightarrow$Run All).\n",
    "\n",
    "Make sure you fill in any place that says `YOUR CODE HERE` or \"YOUR ANSWER HERE\", as well as your name and collaborators below:"
   ]
  },
  {
   "cell_type": "code",
   "execution_count": null,
   "metadata": {},
   "outputs": [],
   "source": [
    "NAME = \"\"\n",
    "COLLABORATORS = \"\""
   ]
  },
  {
   "cell_type": "markdown",
   "metadata": {},
   "source": [
    "---"
   ]
  },
  {
   "cell_type": "markdown",
   "metadata": {
    "deletable": false,
    "editable": false,
    "nbgrader": {
     "cell_type": "markdown",
     "checksum": "df3d6c7b7b1b1a0577a851f540184416",
     "grade": false,
     "grade_id": "cell-90cb6b8793cd7b6e",
     "locked": true,
     "schema_version": 3,
     "solution": false,
     "task": false
    }
   },
   "source": [
    "# Exercise 1: Development Basics\n",
    "\n",
    "Version 5.2, Summer Semester 2024\n",
    "\n",
    "## Part 2: Numpy"
   ]
  },
  {
   "cell_type": "markdown",
   "metadata": {},
   "source": [
    "## Your Name\n",
    "\n",
    "Replace the `raise NotImplementedError` with the code `myname = \"\"` and assign your name to the variable:"
   ]
  },
  {
   "cell_type": "code",
   "execution_count": null,
   "metadata": {
    "deletable": false,
    "nbgrader": {
     "cell_type": "code",
     "checksum": "7bc4e978fc846dc69988dd013f39fc10",
     "grade": false,
     "grade_id": "name",
     "locked": false,
     "schema_version": 3,
     "solution": true,
     "task": false
    }
   },
   "outputs": [],
   "source": [
    "# YOUR CODE HERE\n",
    "raise NotImplementedError()"
   ]
  },
  {
   "cell_type": "code",
   "execution_count": null,
   "metadata": {
    "deletable": false,
    "editable": false,
    "nbgrader": {
     "cell_type": "code",
     "checksum": "b59018434324e604942cea2acc2d2cfe",
     "grade": true,
     "grade_id": "name-test",
     "locked": true,
     "points": 1,
     "schema_version": 3,
     "solution": false,
     "task": false
    }
   },
   "outputs": [],
   "source": [
    "assert myname != \"\", \"myname should not be empty\""
   ]
  },
  {
   "cell_type": "markdown",
   "metadata": {
    "deletable": false,
    "editable": false,
    "nbgrader": {
     "cell_type": "markdown",
     "checksum": "d32725251c15ef18803dfc92e874c84a",
     "grade": false,
     "grade_id": "cell-13340187dd8dfd6b",
     "locked": true,
     "schema_version": 3,
     "solution": false,
     "task": false
    }
   },
   "source": [
    "# Numpy\n",
    "\n",
    "A good overview to repeat from our class the concepts is in the [Data Science Foundations: Python Scientific Stack](https://www.linkedin.com/learning/data-science-foundations-python-scientific-stack/overview-numpy) online course on the LinkedIn Learning Platform. Watch chapter 3 - NumPy Basics (duration approx. 27min).\n",
    "\n",
    "To start with numpy we need to import the numpy package. Execute the following lines also in your notebook by pressing shift+enter in the following code line:"
   ]
  },
  {
   "cell_type": "code",
   "execution_count": null,
   "metadata": {
    "deletable": false,
    "editable": false,
    "nbgrader": {
     "cell_type": "code",
     "checksum": "8f480572545c3f69d8e84de4a94fa0c7",
     "grade": false,
     "grade_id": "cell-5ce5f7dd6a76a24a",
     "locked": true,
     "schema_version": 3,
     "solution": false,
     "task": false
    }
   },
   "outputs": [],
   "source": [
    "import numpy as np\n",
    "np.random.seed(0) # we also reset the random number generator, so that everyone of us gets the same random numbers in this exercise"
   ]
  },
  {
   "cell_type": "markdown",
   "metadata": {
    "deletable": false,
    "editable": false,
    "nbgrader": {
     "cell_type": "markdown",
     "checksum": "eaac3b4581ccba16ada2206d83cd2820",
     "grade": false,
     "grade_id": "cell-c575933ecc65883c",
     "locked": true,
     "schema_version": 3,
     "solution": false,
     "task": false
    }
   },
   "source": [
    "## Exercise 2.1: NumPy Arrays\n",
    "\n",
    "Create following **numpy array** `arr1`: \n",
    "\n",
    "$$ arr1 = \n",
    " \\begin{pmatrix}\n",
    "  1 & 0 & 1 & 0 & 1 & 0 & 1 & 0 & 1 & 0\n",
    " \\end{pmatrix} $$\n",
    "\n",
    "Create also a numpy array `arr2` with 10 *random* elements in the range of 0..1.\n",
    "\n",
    "Execute the following lines with your own code:\n",
    "* print the values of the elements of both arrays.\n",
    "* add the two arrays to each other (using `+`, not using concatenation). Store the result in variable `arr_add`.\n",
    "* multiply the two arrays elementwise. Store the result in variable `arr_mul`.\n",
    "* calculate the dot product of the two arrays. Store the result in variable `arr_dot`."
   ]
  },
  {
   "cell_type": "code",
   "execution_count": null,
   "metadata": {
    "deletable": false,
    "nbgrader": {
     "cell_type": "code",
     "checksum": "e84ead1c959e3061ca79f4bc7280c08b",
     "grade": false,
     "grade_id": "arr1",
     "locked": false,
     "schema_version": 3,
     "solution": true,
     "task": false
    }
   },
   "outputs": [],
   "source": [
    "# Define arr1 and print it\n",
    "# YOUR CODE HERE\n",
    "raise NotImplementedError()"
   ]
  },
  {
   "cell_type": "code",
   "execution_count": null,
   "metadata": {
    "deletable": false,
    "nbgrader": {
     "cell_type": "code",
     "checksum": "fa1ead3e7afd93748dc9c7bc903a7903",
     "grade": false,
     "grade_id": "arr2",
     "locked": false,
     "schema_version": 3,
     "solution": true,
     "task": false
    }
   },
   "outputs": [],
   "source": [
    "# Define arr2 and print it\n",
    "# YOUR CODE HERE\n",
    "raise NotImplementedError()"
   ]
  },
  {
   "cell_type": "code",
   "execution_count": null,
   "metadata": {
    "deletable": false,
    "nbgrader": {
     "cell_type": "code",
     "checksum": "8036d5c744ea80550a07f24511aad2ef",
     "grade": false,
     "grade_id": "arr-add",
     "locked": false,
     "schema_version": 3,
     "solution": true,
     "task": false
    }
   },
   "outputs": [],
   "source": [
    "# Calculate the sum of arr1 and arr2, store in arr_add\n",
    "# YOUR CODE HERE\n",
    "raise NotImplementedError()"
   ]
  },
  {
   "cell_type": "code",
   "execution_count": null,
   "metadata": {
    "deletable": false,
    "nbgrader": {
     "cell_type": "code",
     "checksum": "6756e078286b2cad4365e13526abbd86",
     "grade": false,
     "grade_id": "arr-mul",
     "locked": false,
     "schema_version": 3,
     "solution": true,
     "task": false
    }
   },
   "outputs": [],
   "source": [
    "# Multiply arr1 with arr2, store in arr_mul\n",
    "# YOUR CODE HERE\n",
    "raise NotImplementedError()"
   ]
  },
  {
   "cell_type": "code",
   "execution_count": null,
   "metadata": {
    "deletable": false,
    "nbgrader": {
     "cell_type": "code",
     "checksum": "5b99152fef70c2c88f2c99bafe661eb8",
     "grade": false,
     "grade_id": "arr-dot",
     "locked": false,
     "schema_version": 3,
     "solution": true,
     "task": false
    }
   },
   "outputs": [],
   "source": [
    "# Dot multiplication of arr1 and arr2, store in arr_dot\n",
    "# YOUR CODE HERE\n",
    "raise NotImplementedError()"
   ]
  },
  {
   "cell_type": "code",
   "execution_count": null,
   "metadata": {
    "deletable": false,
    "editable": false,
    "nbgrader": {
     "cell_type": "code",
     "checksum": "84ead634ad769c8ea09c451fc0c1fade",
     "grade": true,
     "grade_id": "arr-test",
     "locked": true,
     "points": 5,
     "schema_version": 3,
     "solution": false,
     "task": false
    }
   },
   "outputs": [],
   "source": [
    "assert arr1.shape == (10,)\n",
    "assert arr2.shape == (10,)\n",
    "assert arr_mul[1] == 0\n",
    "assert arr_dot.size == 1\n",
    "assert np.isclose(arr_dot, 2.976, rtol=0.1)"
   ]
  },
  {
   "cell_type": "markdown",
   "metadata": {
    "deletable": false,
    "editable": false,
    "nbgrader": {
     "cell_type": "markdown",
     "checksum": "e3f7e066ef57e25f20db2c477d79385d",
     "grade": false,
     "grade_id": "cell-ee919ce350197a4b",
     "locked": true,
     "schema_version": 3,
     "solution": false,
     "task": false
    }
   },
   "source": [
    "## Exercise 2.2: Matrix Access & Shape\n",
    "\n",
    "Create following numpy 2d array in a variable `A`: \n",
    "$$ A = \n",
    " \\begin{pmatrix}\n",
    "  2 & 4 & 2 & 6 & 3 \\\\\n",
    "  1 & 3 & 2 & 8 & -3 \\\\\n",
    "  9 & 3 & 5 & 7 & 2 \\\\\n",
    "  -4 & 1 & 20 & 0 & -20\n",
    " \\end{pmatrix} $$"
   ]
  },
  {
   "cell_type": "code",
   "execution_count": null,
   "metadata": {
    "deletable": false,
    "nbgrader": {
     "cell_type": "code",
     "checksum": "6a750900da2ab0246c064a36a82527bc",
     "grade": false,
     "grade_id": "matrix-def",
     "locked": false,
     "schema_version": 3,
     "solution": true,
     "task": false
    }
   },
   "outputs": [],
   "source": [
    "# Define matrix A\n",
    "# YOUR CODE HERE\n",
    "raise NotImplementedError()"
   ]
  },
  {
   "cell_type": "markdown",
   "metadata": {
    "deletable": false,
    "editable": false,
    "nbgrader": {
     "cell_type": "markdown",
     "checksum": "5874a27713e268b213dbbc3aeb034042",
     "grade": false,
     "grade_id": "cell-49b4ded52e3e8488",
     "locked": true,
     "schema_version": 3,
     "solution": false,
     "task": false
    }
   },
   "source": [
    "What is the shape of the matrix you generated? Use `shape` based on `A` and store the result in a new variable called `mat_shape`. Also print the variable. Note that `shape` isn't a function, so you do not need `()` at the end."
   ]
  },
  {
   "cell_type": "code",
   "execution_count": null,
   "metadata": {
    "deletable": false,
    "nbgrader": {
     "cell_type": "code",
     "checksum": "cdc9f610d5fec5ab11cbbe2370f305b1",
     "grade": false,
     "grade_id": "mat-shape",
     "locked": false,
     "schema_version": 3,
     "solution": true,
     "task": false
    }
   },
   "outputs": [],
   "source": [
    "# Store the shape of A into a variable mat_shape\n",
    "# (use the corresponding function and do not assign the values manually)\n",
    "# YOUR CODE HERE\n",
    "raise NotImplementedError()"
   ]
  },
  {
   "cell_type": "markdown",
   "metadata": {
    "deletable": false,
    "editable": false,
    "nbgrader": {
     "cell_type": "markdown",
     "checksum": "3c2fd2927a1fc1c99a7df1de3002da94",
     "grade": false,
     "grade_id": "cell-994a98f3dc487bff",
     "locked": true,
     "schema_version": 3,
     "solution": false,
     "task": false
    }
   },
   "source": [
    "How many rows does this matrix have? Access the information from variable `mat_shape` and store the value in a new variable `mat_rows`"
   ]
  },
  {
   "cell_type": "code",
   "execution_count": null,
   "metadata": {
    "deletable": false,
    "nbgrader": {
     "cell_type": "code",
     "checksum": "68ccc3640c1f1f0a98cd3d6969106593",
     "grade": false,
     "grade_id": "mat-rows",
     "locked": false,
     "schema_version": 3,
     "solution": true,
     "task": false
    }
   },
   "outputs": [],
   "source": [
    "# Store the number of rows of matrix A in a new variable mat_rows (based on mat_shape)\n",
    "# YOUR CODE HERE\n",
    "raise NotImplementedError()"
   ]
  },
  {
   "cell_type": "markdown",
   "metadata": {
    "deletable": false,
    "editable": false,
    "nbgrader": {
     "cell_type": "markdown",
     "checksum": "35ab659ea82cc674f385092ec8db7d29",
     "grade": false,
     "grade_id": "cell-bbe4c33df733e4a5",
     "locked": true,
     "schema_version": 3,
     "solution": false,
     "task": false
    }
   },
   "source": [
    "From Matrix A, select all rows *starting with* the row 1 (note: counting starts with 0), with all columns *until* the column 1. Store the result in a new variable `mat_slice`."
   ]
  },
  {
   "cell_type": "code",
   "execution_count": null,
   "metadata": {
    "deletable": false,
    "nbgrader": {
     "cell_type": "code",
     "checksum": "24ba31c388cb3a5a9a93ef979e9d872d",
     "grade": false,
     "grade_id": "mat_slice",
     "locked": false,
     "schema_version": 3,
     "solution": true,
     "task": false
    }
   },
   "outputs": [],
   "source": [
    "# Create a variable mat_slice and store a slice according to the instructions above\n",
    "# YOUR CODE HERE\n",
    "raise NotImplementedError()"
   ]
  },
  {
   "cell_type": "markdown",
   "metadata": {
    "deletable": false,
    "editable": false,
    "nbgrader": {
     "cell_type": "markdown",
     "checksum": "2b7e58b668e1d5ecc1de6c7ea5591192",
     "grade": false,
     "grade_id": "cell-323671c7b3d45ca1",
     "locked": true,
     "schema_version": 3,
     "solution": false,
     "task": false
    }
   },
   "source": [
    "From Matrix A, access the row 2 (note: counting starts with 0). From these rows, select all columns. Store the slice in a new variable called `mat_single`. If each row is data from a patient and each column contains a measurement, this would equal getting the data of a single patient."
   ]
  },
  {
   "cell_type": "code",
   "execution_count": null,
   "metadata": {
    "deletable": false,
    "nbgrader": {
     "cell_type": "code",
     "checksum": "2f21861dba681479365f1e3b7711c359",
     "grade": false,
     "grade_id": "mat_single",
     "locked": false,
     "schema_version": 3,
     "solution": true,
     "task": false
    }
   },
   "outputs": [],
   "source": [
    "# Create a variable mat_single for row 2 and all columns\n",
    "# YOUR CODE HERE\n",
    "raise NotImplementedError()"
   ]
  },
  {
   "cell_type": "markdown",
   "metadata": {
    "deletable": false,
    "editable": false,
    "nbgrader": {
     "cell_type": "markdown",
     "checksum": "b80f63364aa4bc825e669d1792e89f75",
     "grade": false,
     "grade_id": "cell-d42106e9e93f8d09",
     "locked": true,
     "schema_version": 3,
     "solution": false,
     "task": false
    }
   },
   "source": [
    "From Matrix A, slice columns 2 and 0 (in this order) for all rows. Store the result in a variable `mat_columns`. If each row is data from a patient and each column contains a measurement, this would equal only looking at certain measurements for all patients."
   ]
  },
  {
   "cell_type": "code",
   "execution_count": null,
   "metadata": {
    "deletable": false,
    "nbgrader": {
     "cell_type": "code",
     "checksum": "dbc70f5160c903768fba668137e528c8",
     "grade": false,
     "grade_id": "mat_columns",
     "locked": false,
     "schema_version": 3,
     "solution": true,
     "task": false
    }
   },
   "outputs": [],
   "source": [
    "# Create a variable mat_columns containing columns 2 and 0 (in this order) for all rows.\n",
    "# YOUR CODE HERE\n",
    "raise NotImplementedError()"
   ]
  },
  {
   "cell_type": "code",
   "execution_count": null,
   "metadata": {
    "deletable": false,
    "editable": false,
    "nbgrader": {
     "cell_type": "code",
     "checksum": "b8cfca3d8c7aa64faaa4ba68ad76d2c7",
     "grade": true,
     "grade_id": "mat-test",
     "locked": true,
     "points": 6,
     "schema_version": 3,
     "solution": false,
     "task": false
    }
   },
   "outputs": [],
   "source": [
    "assert A.shape == (4,5)\n",
    "assert A[0,1] == 4\n",
    "assert A[2,3] == 7\n",
    "assert mat_shape == (4,5)\n",
    "assert mat_rows > 0\n",
    "assert mat_rows < 6\n",
    "assert mat_slice.shape == (3,1)\n",
    "assert mat_single.shape == (5,)\n",
    "assert mat_columns.shape == (4,2)"
   ]
  }
 ],
 "metadata": {
  "kernelspec": {
   "display_name": "Python 3 (ipykernel)",
   "language": "python",
   "name": "python3"
  },
  "language_info": {
   "codemirror_mode": {
    "name": "ipython",
    "version": 3
   },
   "file_extension": ".py",
   "mimetype": "text/x-python",
   "name": "python",
   "nbconvert_exporter": "python",
   "pygments_lexer": "ipython3",
   "version": "3.10.10"
  }
 },
 "nbformat": 4,
 "nbformat_minor": 4
}
