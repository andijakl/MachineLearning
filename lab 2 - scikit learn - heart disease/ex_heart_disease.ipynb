{
 "cells": [
  {
   "cell_type": "markdown",
   "metadata": {},
   "source": [
    "Before you turn this problem in, make sure everything runs as expected. First, **restart the kernel** (in the menubar, select Kernel$\\rightarrow$Restart) and then **run all cells** (in the menubar, select Cell$\\rightarrow$Run All).\n",
    "\n",
    "Make sure you fill in any place that says `YOUR CODE HERE` or \"YOUR ANSWER HERE\", as well as your name and collaborators below:"
   ]
  },
  {
   "cell_type": "code",
   "execution_count": null,
   "metadata": {},
   "outputs": [],
   "source": [
    "NAME = \"\"\n",
    "COLLABORATORS = \"\""
   ]
  },
  {
   "cell_type": "markdown",
   "metadata": {},
   "source": [
    "---"
   ]
  },
  {
   "cell_type": "markdown",
   "metadata": {
    "deletable": false,
    "editable": false,
    "id": "i66GHKbc40_R",
    "nbgrader": {
     "cell_type": "markdown",
     "checksum": "dddb5ec8398582b2ae81dc314782851e",
     "grade": false,
     "grade_id": "cell-1d8c5548342de9fa",
     "locked": true,
     "schema_version": 3,
     "solution": false,
     "task": false
    }
   },
   "source": [
    "### Exercise: Heart Disease / Scikit-Learn\n",
    "\n",
    "Version: 3.6, Summer Semester 2024\n",
    "\n",
    "Follow the steps to load the heart disease database and to train & score various classifiers with it.\n",
    "The database is a slightly modified version from the [UCI Machine Learning Repository](https://archive.ics.uci.edu/ml/datasets/heart+Disease)."
   ]
  },
  {
   "cell_type": "markdown",
   "metadata": {
    "deletable": false,
    "editable": false,
    "id": "LZZPUzLg40_b",
    "nbgrader": {
     "cell_type": "markdown",
     "checksum": "e8c113622f41e76255a0a27e279c47a9",
     "grade": false,
     "grade_id": "cell-d3d3fde835de04ed",
     "locked": true,
     "schema_version": 3,
     "solution": false,
     "task": false
    }
   },
   "source": [
    "## Your Name\n",
    "\n",
    "Replace the `raise NotImplementedError` with the code `myname = \"\"` and assign your name to the variable:"
   ]
  },
  {
   "cell_type": "code",
   "execution_count": null,
   "metadata": {
    "deletable": false,
    "id": "m-oYO1ed40_d",
    "nbgrader": {
     "cell_type": "code",
     "checksum": "7bc4e978fc846dc69988dd013f39fc10",
     "grade": false,
     "grade_id": "name",
     "locked": false,
     "schema_version": 3,
     "solution": true,
     "task": false
    }
   },
   "outputs": [],
   "source": [
    "# YOUR CODE HERE\n",
    "raise NotImplementedError()"
   ]
  },
  {
   "cell_type": "code",
   "execution_count": null,
   "metadata": {
    "deletable": false,
    "editable": false,
    "id": "0uzj24uR40_h",
    "nbgrader": {
     "cell_type": "code",
     "checksum": "b59018434324e604942cea2acc2d2cfe",
     "grade": true,
     "grade_id": "name-test",
     "locked": true,
     "points": 1,
     "schema_version": 3,
     "solution": false,
     "task": false
    }
   },
   "outputs": [],
   "source": [
    "assert myname != \"\", \"myname should not be empty\""
   ]
  },
  {
   "cell_type": "markdown",
   "metadata": {
    "deletable": false,
    "editable": false,
    "id": "H68AKRSV40_j",
    "nbgrader": {
     "cell_type": "markdown",
     "checksum": "3a82464dc6df2c48e0a1d8004779d0af",
     "grade": false,
     "grade_id": "cell-62706836af48625e",
     "locked": true,
     "schema_version": 3,
     "solution": false,
     "task": false
    }
   },
   "source": [
    "## 1: Read about the Dataset\n",
    "\n",
    "Check out the dataset description of [UCI](https://archive.ics.uci.edu/ml/datasets/heart+Disease). Our dataset is the Cleveland set and uses the smaller variant with 14 attributes. Take a look at column 3 (\"chest pain\" / \"cp\"). The values are either 1, 2, 3 or 4 in the dataset. \n",
    "\n",
    "Change the code below so that the Python dictionary contains the names of the four different types of chest pain that the dataset distinguishes.\n",
    "\n",
    "*Hint: you'll find the answer in the \"Attribute information\" section of the linked web page.*"
   ]
  },
  {
   "cell_type": "code",
   "execution_count": null,
   "metadata": {
    "deletable": false,
    "id": "x2jp7ibu40_k",
    "nbgrader": {
     "cell_type": "code",
     "checksum": "4f92787d7a75cc7eef65f228b8fbbee1",
     "grade": false,
     "grade_id": "chest-pain",
     "locked": false,
     "schema_version": 3,
     "solution": true,
     "task": false
    }
   },
   "outputs": [],
   "source": [
    "# Replace xxx with the textual names of the different types of chest pain\n",
    "pain_types = {1: \"xxx\",\n",
    "             2: \"xxx\",\n",
    "             3: \"xxx\",\n",
    "             4: \"xxx\"}\n",
    "# When you have finished replacing the values, delete the exception in the line\n",
    "# below and run the next block with the asserts to see if you got it right.\n",
    "# YOUR CODE HERE\n",
    "raise NotImplementedError()"
   ]
  },
  {
   "cell_type": "code",
   "execution_count": null,
   "metadata": {
    "deletable": false,
    "editable": false,
    "id": "tWv8Xe9g40_l",
    "nbgrader": {
     "cell_type": "code",
     "checksum": "7614f19c1fe379a2a755b6a376037755",
     "grade": true,
     "grade_id": "chest-pain-test",
     "locked": true,
     "points": 3,
     "schema_version": 3,
     "solution": false,
     "task": false
    }
   },
   "outputs": [],
   "source": [
    "import hashlib\n",
    "assert hashlib.blake2b(pain_types[1].casefold().encode()).hexdigest() == '10de5546a056feb6522445a2e94492fa20419030d70694bd97fc67016906936dd8a8791e286becb0bb5f8087986bd2621f2f06d639523f653f955a2d45e78d6f'\n",
    "assert hashlib.blake2b(pain_types[2].casefold().encode()).hexdigest() == '884a2e513fec27229c985dc4b01d4935d42e90e6c71d1f5d519b38e7369ae23be525d803dadf9e102ddb91beb6feef4a4d71d8a9636c1a4106f87c1aee1c2640'\n",
    "assert hashlib.blake2b(pain_types[3].casefold().encode()).hexdigest() == 'cb8436129905c921a1930a01e2ae2ebe74d5562826802d6ea27f183c6703a3a58d9e8cc94f5eb53e48928abcefdd88e8ac50e153c99f0870005e327fcd4d1c89'\n",
    "assert hashlib.blake2b(pain_types[4].casefold().encode()).hexdigest() == '56f3734df8320938c6c2e66fec6ea97f04e6f5f7e5cc27c57da98fc99ba277442240d7c0a9d4aa12816199274de33843c591d6d61037cd5a12f347f50850bd5b'"
   ]
  },
  {
   "cell_type": "markdown",
   "metadata": {
    "deletable": false,
    "editable": false,
    "id": "PxycN9pu40_n",
    "nbgrader": {
     "cell_type": "markdown",
     "checksum": "85d58d58e6c22482d493dae5fdac8ab4",
     "grade": false,
     "grade_id": "cell-4547db3a672318c2",
     "locked": true,
     "schema_version": 3,
     "solution": false,
     "task": false
    }
   },
   "source": [
    "## 2: Imports\n",
    "\n",
    "Use the following block for all the imports you need for your notebook.\n",
    "This will include `pandas` (as `pd`), `numpy` (as `np`), `seaborn` (as `sns`) and all the parts of `sklearn` you will need.\n",
    "Also configure `matplotlib` to draw graphics inline. If during this notebook you discover that you need additional imports, just come back to this cell, add the import here and execute the cell again. It's often easier to have all imports in one place."
   ]
  },
  {
   "cell_type": "code",
   "execution_count": null,
   "metadata": {
    "deletable": false,
    "id": "eT0TuDpz40_4",
    "nbgrader": {
     "cell_type": "code",
     "checksum": "3850e88abb23a449f250de09846fa32f",
     "grade": false,
     "grade_id": "imports",
     "locked": false,
     "schema_version": 3,
     "solution": true,
     "task": false
    }
   },
   "outputs": [],
   "source": [
    "# Place all neccessary imports here\n",
    "# YOUR CODE HERE\n",
    "raise NotImplementedError()"
   ]
  },
  {
   "cell_type": "markdown",
   "metadata": {
    "deletable": false,
    "editable": false,
    "id": "QmPMXqK140_6",
    "nbgrader": {
     "cell_type": "markdown",
     "checksum": "8eddeaa36dbd17137d9ad80624fbaa3a",
     "grade": false,
     "grade_id": "cell-e4aff452f88702b6",
     "locked": true,
     "schema_version": 3,
     "solution": false,
     "task": false
    }
   },
   "source": [
    "## 3: Load the CSV\n",
    "\n",
    "Load the `heart_disease-fhstp-withmissing.csv` file into a Pandas dataframe variable called `df_heart` and print its head to check if importing worked. The URL for the file is: `https://raw.githubusercontent.com/andijakl/MachineLearning/main/lab%202%20-%20scikit%20learn%20-%20heart%20disease/heart_disease-fhstp-withmissing.csv`\n",
    "\n",
    "Our dataset contains some missing values. If you take a look at the file, you will see that some values are `?`. By default, these are not recognized as missing values by the CSV reader; instead, the whole column would be interpreted as string value, so that the `?` character is stored as text. To improve the situation, specify `'?'` for the `na_values` parameter of the `read_csv` function. This will correctly interpret `?` as missing data."
   ]
  },
  {
   "cell_type": "code",
   "execution_count": null,
   "metadata": {
    "colab": {
     "base_uri": "https://localhost:8080/",
     "height": 267
    },
    "deletable": false,
    "id": "LksKi_uV40_7",
    "nbgrader": {
     "cell_type": "code",
     "checksum": "5a0b1fb8a732431e6a64a81566fd95f1",
     "grade": false,
     "grade_id": "read-csv",
     "locked": false,
     "schema_version": 3,
     "solution": true,
     "task": false
    },
    "outputId": "61ea81f5-aba5-4ec7-996f-709e42ae8ca1"
   },
   "outputs": [],
   "source": [
    "file_url = 'https://raw.githubusercontent.com/andijakl/MachineLearning/main/lab%202%20-%20scikit%20learn%20-%20heart%20disease/heart_disease-fhstp-withmissing.csv'\n",
    "# Load the dataset into a variable called df_heart\n",
    "# Specify that ? should be recognized as na value\n",
    "# Print the head of the dataframe to see if importing worked correctly.\n",
    "# YOUR CODE HERE\n",
    "raise NotImplementedError()"
   ]
  },
  {
   "cell_type": "code",
   "execution_count": null,
   "metadata": {
    "deletable": false,
    "editable": false,
    "id": "ER9Gmfnw40_9",
    "nbgrader": {
     "cell_type": "code",
     "checksum": "54c09e3bdbc4648687d2eb4803967a3a",
     "grade": true,
     "grade_id": "read-csv-test",
     "locked": true,
     "points": 2,
     "schema_version": 3,
     "solution": false,
     "task": false
    }
   },
   "outputs": [],
   "source": [
    "# Tests if data has been loaded\n",
    "assert len(df_heart) == 303, \"Imported data should have 303 samples\""
   ]
  },
  {
   "cell_type": "markdown",
   "metadata": {
    "deletable": false,
    "editable": false,
    "id": "7q-Ns8pf40_-",
    "nbgrader": {
     "cell_type": "markdown",
     "checksum": "d5200c7d7eff99ab077a19877827c1a1",
     "grade": false,
     "grade_id": "cell-05475b0c9be678c9",
     "locked": true,
     "schema_version": 3,
     "solution": false,
     "task": false
    }
   },
   "source": [
    "Next, let's see how many missing values we have and in which columns these are. From the dataframe, run the `isna()` function. This will result in a new dataframe containing true / false values whether the value is na or not. This doesn't help us much, so add `.sum()` to get the sum of na values for each column. Store the resulting data in a variable called `sum_na`."
   ]
  },
  {
   "cell_type": "code",
   "execution_count": null,
   "metadata": {
    "colab": {
     "base_uri": "https://localhost:8080/"
    },
    "deletable": false,
    "id": "W2ZhsECv40__",
    "nbgrader": {
     "cell_type": "code",
     "checksum": "6ea4da55fedd6d81e8524b4937d93ae2",
     "grade": false,
     "grade_id": "sum-na",
     "locked": false,
     "schema_version": 3,
     "solution": true,
     "task": false
    },
    "outputId": "34ef2aef-c559-44a1-9e86-c9804bf72207"
   },
   "outputs": [],
   "source": [
    "# Store the sum of na values for each column in a variable called sum_na.\n",
    "# Print the variable\n",
    "# YOUR CODE HERE\n",
    "raise NotImplementedError()"
   ]
  },
  {
   "cell_type": "code",
   "execution_count": null,
   "metadata": {
    "deletable": false,
    "editable": false,
    "id": "Uwwjr_ac41AC",
    "nbgrader": {
     "cell_type": "code",
     "checksum": "1ea9e649d496625f8654560a0071a5b2",
     "grade": true,
     "grade_id": "sum-na-test",
     "locked": true,
     "points": 2,
     "schema_version": 3,
     "solution": false,
     "task": false
    }
   },
   "outputs": [],
   "source": [
    "assert sum_na['major vessels colored'] == 4\n",
    "assert sum_na['thal'] == 2"
   ]
  },
  {
   "cell_type": "markdown",
   "metadata": {
    "id": "t9ugqnPp41AD"
   },
   "source": [
    "As you can see, it affects few samples overall. We decide that we simply drop these rows from our dataset instead of imputing the missing values based on the other samples. For this, run `dropna()` on the dataset. To directly modify the source, use the `inplace=True` parameter."
   ]
  },
  {
   "cell_type": "code",
   "execution_count": null,
   "metadata": {
    "deletable": false,
    "id": "G6Q_SnwI41AE",
    "nbgrader": {
     "cell_type": "code",
     "checksum": "a65b757e4031b0c3cabf8a1db3fccbf1",
     "grade": false,
     "grade_id": "drop-na",
     "locked": false,
     "schema_version": 3,
     "solution": true,
     "task": false
    }
   },
   "outputs": [],
   "source": [
    "# Drop missing values using the inplace version\n",
    "# YOUR CODE HERE\n",
    "raise NotImplementedError()"
   ]
  },
  {
   "cell_type": "markdown",
   "metadata": {
    "id": "zMDvy0Yv41AE"
   },
   "source": [
    "Now check how many samples we still have left using the `len()` function, supplying the dataframe as parameter. Save the new length in a variable called `df_heart_len` and print it."
   ]
  },
  {
   "cell_type": "code",
   "execution_count": null,
   "metadata": {
    "colab": {
     "base_uri": "https://localhost:8080/"
    },
    "deletable": false,
    "id": "J0xgGg7h41AF",
    "nbgrader": {
     "cell_type": "code",
     "checksum": "4786bbf46b9fd3d1b4691bd8450da794",
     "grade": false,
     "grade_id": "len-dropped",
     "locked": false,
     "schema_version": 3,
     "solution": true,
     "task": false
    },
    "outputId": "84a525ff-3331-4190-fb41-6405c97b3ad9"
   },
   "outputs": [],
   "source": [
    "# Save the length of the dataset to a new variable df_heart_len and print it\n",
    "# YOUR CODE HERE\n",
    "raise NotImplementedError()"
   ]
  },
  {
   "cell_type": "code",
   "execution_count": null,
   "metadata": {
    "deletable": false,
    "editable": false,
    "id": "rwyBy0O741AG",
    "nbgrader": {
     "cell_type": "code",
     "checksum": "3fdfdaf4b97ba09a621af0e23e309602",
     "grade": true,
     "grade_id": "len-dropped-test",
     "locked": true,
     "points": 2,
     "schema_version": 3,
     "solution": false,
     "task": false
    }
   },
   "outputs": [],
   "source": [
    "assert df_heart_len == 297\n",
    "assert len(df_heart) == 297"
   ]
  },
  {
   "cell_type": "markdown",
   "metadata": {
    "deletable": false,
    "editable": false,
    "id": "88NZ_TUw41AH",
    "nbgrader": {
     "cell_type": "markdown",
     "checksum": "a8d3ae0e99ae7a5a2ab5dff2467da899",
     "grade": false,
     "grade_id": "cell-3f3b82b5b65e36ee",
     "locked": true,
     "schema_version": 3,
     "solution": false,
     "task": false
    }
   },
   "source": [
    "## 4: Describe\n",
    "\n",
    "Use the describe function of the Pandas DataFrame to find out the count, mean, standard deviation & more from the dataset for each column."
   ]
  },
  {
   "cell_type": "code",
   "execution_count": null,
   "metadata": {
    "colab": {
     "base_uri": "https://localhost:8080/",
     "height": 416
    },
    "deletable": false,
    "id": "XbZurMAs41AI",
    "nbgrader": {
     "cell_type": "code",
     "checksum": "6218597e6937d769e03d3deacc318be6",
     "grade": false,
     "grade_id": "describe",
     "locked": false,
     "schema_version": 3,
     "solution": true,
     "task": false
    },
    "outputId": "ea1643ed-2d15-454a-904d-9fb2b2c4732d"
   },
   "outputs": [],
   "source": [
    "# Call method to describe the dataset\n",
    "# YOUR CODE HERE\n",
    "raise NotImplementedError()"
   ]
  },
  {
   "cell_type": "markdown",
   "metadata": {
    "id": "sylhUSQI41AJ"
   },
   "source": [
    "Based on the printed information you see about the dataset, answer a few questions and assign the numbers to the corresponding variables. Round your answers (up/down) to the next integer."
   ]
  },
  {
   "cell_type": "code",
   "execution_count": null,
   "metadata": {
    "deletable": false,
    "id": "6tnTDY1m41AK",
    "nbgrader": {
     "cell_type": "code",
     "checksum": "2115bf8dc921af2492926d1aa003bd60",
     "grade": false,
     "grade_id": "dataset_data",
     "locked": false,
     "schema_version": 3,
     "solution": true,
     "task": false
    }
   },
   "outputs": [],
   "source": [
    "# What is the mean age?\n",
    "mean_age = 0;\n",
    "# What is the maximum heart rate?\n",
    "max_hr = 0;\n",
    "# What is the standard deviation of the cholesterol level?\n",
    "std_cholesterol = 0;\n",
    "# Simply assign the values to the variables above and when finished,\n",
    "# remove the line throwing the not implemented error.\n",
    "# YOUR CODE HERE\n",
    "raise NotImplementedError()"
   ]
  },
  {
   "cell_type": "code",
   "execution_count": null,
   "metadata": {
    "deletable": false,
    "editable": false,
    "id": "tPwyLZlv41AL",
    "nbgrader": {
     "cell_type": "code",
     "checksum": "2c2b62b77bf604241e5cd2b758a39638",
     "grade": true,
     "grade_id": "dataset_data_tests",
     "locked": true,
     "points": 2,
     "schema_version": 3,
     "solution": false,
     "task": false
    }
   },
   "outputs": [],
   "source": [
    "assert mean_age > 0\n",
    "assert max_hr > 0\n",
    "assert std_cholesterol > 0"
   ]
  },
  {
   "cell_type": "markdown",
   "metadata": {
    "deletable": false,
    "editable": false,
    "id": "E48myLhD41AL",
    "nbgrader": {
     "cell_type": "markdown",
     "checksum": "24187ba8daa8622125c5d0e42b885d05",
     "grade": false,
     "grade_id": "cell-0d9766f98ece4159",
     "locked": true,
     "schema_version": 3,
     "solution": false,
     "task": false
    }
   },
   "source": [
    "## 5: Age Histogram\n",
    "\n",
    "Print the histogram of the \"age\" column. Use `10` bins. This gives you a good understanding of the patients that were tested for heart diseases."
   ]
  },
  {
   "cell_type": "code",
   "execution_count": null,
   "metadata": {
    "colab": {
     "base_uri": "https://localhost:8080/",
     "height": 283
    },
    "deletable": false,
    "id": "HCYDiuB741AM",
    "nbgrader": {
     "cell_type": "code",
     "checksum": "21826000e8fcd0ec39abdd295d603cfb",
     "grade": false,
     "grade_id": "histogram",
     "locked": false,
     "schema_version": 3,
     "solution": true,
     "task": false
    },
    "outputId": "4b59d999-d4ea-47c7-9444-d446d623cb23"
   },
   "outputs": [],
   "source": [
    "# Call method to print the age histogram with 10 bins\n",
    "# YOUR CODE HERE\n",
    "raise NotImplementedError()"
   ]
  },
  {
   "cell_type": "markdown",
   "metadata": {
    "id": "C0rmsRHB41AM"
   },
   "source": [
    "According to the age bins above (middle number), which age is most frequent in the dataset? Look at the histogram and assign what you think should be approximately in the middle of the highest bin to the following variable:"
   ]
  },
  {
   "cell_type": "code",
   "execution_count": null,
   "metadata": {
    "deletable": false,
    "id": "G2bgFQva41AN",
    "nbgrader": {
     "cell_type": "code",
     "checksum": "224577581ef8bf3cb35a2b2985e16ef6",
     "grade": false,
     "grade_id": "histogram-question",
     "locked": false,
     "schema_version": 3,
     "solution": true,
     "task": false
    }
   },
   "outputs": [],
   "source": [
    "# Change the variable to the approximate middle of the highest bin in the histogram above.\n",
    "# This answers: from what age are most people in the dataset? Assign that age to most_age.\n",
    "most_age = -1\n",
    "# Again, assign your answer to the variable above and then delete the exception\n",
    "# YOUR CODE HERE\n",
    "raise NotImplementedError()"
   ]
  },
  {
   "cell_type": "code",
   "execution_count": null,
   "metadata": {
    "deletable": false,
    "editable": false,
    "id": "0jKJ4jNM41AN",
    "nbgrader": {
     "cell_type": "code",
     "checksum": "e64008a2b40f428c1254c040aea42a03",
     "grade": true,
     "grade_id": "histogram-test",
     "locked": true,
     "points": 2,
     "schema_version": 3,
     "solution": false,
     "task": false
    }
   },
   "outputs": [],
   "source": [
    "assert most_age != -1"
   ]
  },
  {
   "cell_type": "markdown",
   "metadata": {
    "deletable": false,
    "editable": false,
    "id": "IySIkEhb41AO",
    "nbgrader": {
     "cell_type": "markdown",
     "checksum": "024415bdd971321074129cff07cd583a",
     "grade": false,
     "grade_id": "cell-8b1ce0df5e624a4e",
     "locked": true,
     "schema_version": 3,
     "solution": false,
     "task": false
    }
   },
   "source": [
    "## 6: Violin Plot\n",
    "\n",
    "Use the Violin Plot of Seaborn (add the import statement at the beginning of the file!) to print the target class (`\"diameter narrowing\"` -> *diagnosis of heart disease (angiographic disease status), Value 0: < 50% diameter narrowing*) on the `x` axis and `\"max HR\"` on the `y` axis."
   ]
  },
  {
   "cell_type": "code",
   "execution_count": null,
   "metadata": {
    "colab": {
     "base_uri": "https://localhost:8080/",
     "height": 297
    },
    "deletable": false,
    "id": "40Eg7_5941AO",
    "nbgrader": {
     "cell_type": "code",
     "checksum": "4ff4d07f00466aecbffd093195e847a3",
     "grade": false,
     "grade_id": "violin-plot",
     "locked": false,
     "schema_version": 3,
     "solution": true,
     "task": false
    },
    "outputId": "672121fe-852d-4370-a172-bdd109232b1d"
   },
   "outputs": [],
   "source": [
    "# Plot a violin plot with the parameters stated above\n",
    "# YOUR CODE HERE\n",
    "raise NotImplementedError()"
   ]
  },
  {
   "cell_type": "markdown",
   "metadata": {
    "id": "1aJr5wx641AP"
   },
   "source": [
    "Based on the violin plot, answer: is the max HR higher if the target class is 0 or 1?"
   ]
  },
  {
   "cell_type": "code",
   "execution_count": null,
   "metadata": {
    "deletable": false,
    "id": "yRuPAL0n41AP",
    "nbgrader": {
     "cell_type": "code",
     "checksum": "1c852def9effc6b64b539859a49c7464",
     "grade": false,
     "grade_id": "max-hr-question",
     "locked": false,
     "schema_version": 3,
     "solution": true,
     "task": false
    }
   },
   "outputs": [],
   "source": [
    "# Change the variable max_hr_higher to \n",
    "# 0 if the maximum heart rate is higher if there is no heart disease;\n",
    "# 1 if the maximum heart rate is higher if there is heart disease\n",
    "max_hr_higher = -1\n",
    "# Assign the value to the variable above and delete the exception\n",
    "# YOUR CODE HERE\n",
    "raise NotImplementedError()"
   ]
  },
  {
   "cell_type": "code",
   "execution_count": null,
   "metadata": {
    "deletable": false,
    "editable": false,
    "id": "W_sfHADE41AW",
    "nbgrader": {
     "cell_type": "code",
     "checksum": "c3a386e7ad52009f602e0eff1c306404",
     "grade": true,
     "grade_id": "max-hr-test",
     "locked": true,
     "points": 2,
     "schema_version": 3,
     "solution": false,
     "task": false
    }
   },
   "outputs": [],
   "source": [
    "assert max_hr_higher != -1"
   ]
  },
  {
   "cell_type": "markdown",
   "metadata": {
    "deletable": false,
    "editable": false,
    "id": "MJsQe81M41AX",
    "nbgrader": {
     "cell_type": "markdown",
     "checksum": "cc82916108cde568eef36fc4af3795ef",
     "grade": false,
     "grade_id": "cell-05082cf9060880b1",
     "locked": true,
     "schema_version": 3,
     "solution": false,
     "task": false
    }
   },
   "source": [
    "## 7: Prepare Data for Classification\n",
    "\n",
    "Our CSV contains all the data plus the target class values. Remove (`pop`) the target class into an extra variable (`y`).\n",
    "Then split the dataframe into the 4 variables for training & test data. Use the random state `10`. You don't need to specify the size of the training and testing set; according to the [train_test_split documentation](https://scikit-learn.org/stable/modules/generated/sklearn.model_selection.train_test_split.html), the default size of the test data will be 0.25, the training data 0.75."
   ]
  },
  {
   "cell_type": "code",
   "execution_count": null,
   "metadata": {
    "deletable": false,
    "id": "UzVXwnmO41AX",
    "nbgrader": {
     "cell_type": "code",
     "checksum": "63a602750a5f43cd1f6aa45e54aa48e2",
     "grade": false,
     "grade_id": "target-class",
     "locked": false,
     "schema_version": 3,
     "solution": true,
     "task": false
    }
   },
   "outputs": [],
   "source": [
    "# Pop the target class from df_heart, convert it to a numpy array stored in a variable y\n",
    "# YOUR CODE HERE\n",
    "raise NotImplementedError()"
   ]
  },
  {
   "cell_type": "code",
   "execution_count": null,
   "metadata": {
    "deletable": false,
    "editable": false,
    "id": "REZtuVG741AY",
    "nbgrader": {
     "cell_type": "code",
     "checksum": "cffa277cc8abfb27f75e9b52cde32349",
     "grade": true,
     "grade_id": "target-class-test",
     "locked": true,
     "points": 3,
     "schema_version": 3,
     "solution": false,
     "task": false
    }
   },
   "outputs": [],
   "source": [
    "assert y.shape == (297,)\n",
    "assert y[1] == 1\n",
    "assert df_heart.shape == (297,13)"
   ]
  },
  {
   "cell_type": "code",
   "execution_count": null,
   "metadata": {
    "deletable": false,
    "id": "We1Y7-BP41AY",
    "nbgrader": {
     "cell_type": "code",
     "checksum": "d5936f3af32105375ac046171486b6ee",
     "grade": false,
     "grade_id": "split",
     "locked": false,
     "schema_version": 3,
     "solution": true,
     "task": false
    }
   },
   "outputs": [],
   "source": [
    "# Split the dataframe and the target classes using the random state 10 \n",
    "# into the variables X_train, X_test, y_train and y_test\n",
    "# YOUR CODE HERE\n",
    "raise NotImplementedError()"
   ]
  },
  {
   "cell_type": "code",
   "execution_count": null,
   "metadata": {
    "deletable": false,
    "editable": false,
    "id": "15uvalXg41AZ",
    "nbgrader": {
     "cell_type": "code",
     "checksum": "9a6c895c0ffa93c61d9bbd5e80bce9f1",
     "grade": true,
     "grade_id": "split-test",
     "locked": true,
     "points": 3,
     "schema_version": 3,
     "solution": false,
     "task": false
    }
   },
   "outputs": [],
   "source": [
    "assert X_train.shape == (222,13)\n",
    "assert y_train.shape == (222,)\n",
    "assert X_test.iloc[0]['age'] == 60.0\n",
    "assert X_train.iloc[5]['age'] == 46.0"
   ]
  },
  {
   "cell_type": "markdown",
   "metadata": {
    "deletable": false,
    "editable": false,
    "id": "DF8UE-G841AZ",
    "nbgrader": {
     "cell_type": "markdown",
     "checksum": "1f48457add2fd2f7b7984141977e96d9",
     "grade": false,
     "grade_id": "cell-3d9eca2bb35166d7",
     "locked": true,
     "schema_version": 3,
     "solution": false,
     "task": false
    }
   },
   "source": [
    "## 8: Decision Tree\n",
    "\n",
    "Create a decision tree in a new variable `clf_dtc`, fit it with the training data, visualize the trained decision tree, and score the classifier with the test data (store the score in a variable called `clf_dtc_score`).\n",
    "\n",
    "Configure the classifier to use a min sample split of `20` and a random state `10`. See the [documentation](https://scikit-learn.org/stable/modules/generated/sklearn.tree.DecisionTreeClassifier.html) for how the corresponding parameters are called."
   ]
  },
  {
   "cell_type": "code",
   "execution_count": null,
   "metadata": {
    "deletable": false,
    "id": "BjgPGnhz41Aa",
    "nbgrader": {
     "cell_type": "code",
     "checksum": "95fad51734330767b493462f32559284",
     "grade": false,
     "grade_id": "dtc",
     "locked": false,
     "schema_version": 3,
     "solution": true,
     "task": false
    }
   },
   "outputs": [],
   "source": [
    "# Store the classifier in a variable called clf_dtc and create it with the configuration stated above\n",
    "# YOUR CODE HERE\n",
    "raise NotImplementedError()"
   ]
  },
  {
   "cell_type": "code",
   "execution_count": null,
   "metadata": {
    "colab": {
     "base_uri": "https://localhost:8080/"
    },
    "deletable": false,
    "id": "xlT8xcRd41Aa",
    "nbgrader": {
     "cell_type": "code",
     "checksum": "499593b5d07df0bd9216596084a8371d",
     "grade": false,
     "grade_id": "dtc-fit",
     "locked": false,
     "schema_version": 3,
     "solution": true,
     "task": false
    },
    "outputId": "b3c5ee38-88c5-43f9-980e-e1217e67b57a"
   },
   "outputs": [],
   "source": [
    "# Fit the classifier\n",
    "# YOUR CODE HERE\n",
    "raise NotImplementedError()"
   ]
  },
  {
   "cell_type": "code",
   "execution_count": null,
   "metadata": {
    "colab": {
     "base_uri": "https://localhost:8080/"
    },
    "deletable": false,
    "id": "N2pX0Q4d41Aa",
    "nbgrader": {
     "cell_type": "code",
     "checksum": "8dcddac7f4f5efa0cbf6f6395b17324a",
     "grade": false,
     "grade_id": "dtc-score",
     "locked": false,
     "schema_version": 3,
     "solution": true,
     "task": false
    },
    "outputId": "bd1361c7-c5ae-44cf-988c-edeffe458689"
   },
   "outputs": [],
   "source": [
    "# Score the classifier and store the value in clf_dtc_score\n",
    "# Also print the resulting score\n",
    "# YOUR CODE HERE\n",
    "raise NotImplementedError()"
   ]
  },
  {
   "cell_type": "code",
   "execution_count": null,
   "metadata": {
    "colab": {
     "base_uri": "https://localhost:8080/",
     "height": 248
    },
    "deletable": false,
    "id": "gsqMGQ7X41Ab",
    "nbgrader": {
     "cell_type": "code",
     "checksum": "95c7d7334b5b40ce352c35c776a8e257",
     "grade": true,
     "grade_id": "dtc-visualize",
     "locked": false,
     "points": 2,
     "schema_version": 3,
     "solution": true,
     "task": false
    },
    "outputId": "eecc898e-960d-4dfe-99a9-d01dbb568da4"
   },
   "outputs": [],
   "source": [
    "# Plot the decision tree\n",
    "# Optional: to get a better resolution and to easily re-use the image \n",
    "# (e.g., in a Master Thesis), also save the figure: \n",
    "# Add the following import to your import block above:\n",
    "# import matplotlib.pyplot as plt\n",
    "# Then use: plt.savefig(\"filename.svg\") to save the tree as vector graphic.\n",
    "# YOUR CODE HERE\n",
    "raise NotImplementedError()"
   ]
  },
  {
   "cell_type": "code",
   "execution_count": null,
   "metadata": {
    "deletable": false,
    "editable": false,
    "id": "RsXOjyHX41Ab",
    "nbgrader": {
     "cell_type": "code",
     "checksum": "6f808bada1fd600ea2bb3db3b8ac72ef",
     "grade": true,
     "grade_id": "dtc-test",
     "locked": true,
     "points": 2,
     "schema_version": 3,
     "solution": false,
     "task": false
    }
   },
   "outputs": [],
   "source": [
    "assert clf_dtc.min_samples_split == 20\n",
    "assert clf_dtc_score > 0"
   ]
  },
  {
   "cell_type": "markdown",
   "metadata": {
    "deletable": false,
    "editable": false,
    "id": "dr-3Nshk41Ab",
    "nbgrader": {
     "cell_type": "markdown",
     "checksum": "a6b4e1d516bff374430bee718ed8e20b",
     "grade": false,
     "grade_id": "cell-ca95b1113ff3c8ac",
     "locked": true,
     "schema_version": 3,
     "solution": false,
     "task": false
    }
   },
   "source": [
    "## 9: Random Forest\n",
    "\n",
    "Test a random forest classifier (`RandomForestClassifier`) to see if it performs better than the single decision tree. Use a max depth of `3`, `20` estimators and a random state of `10`.\n",
    "Again, fit it with the train data and test with the test data."
   ]
  },
  {
   "cell_type": "code",
   "execution_count": null,
   "metadata": {
    "deletable": false,
    "id": "HoLVq8Iv41Ac",
    "nbgrader": {
     "cell_type": "code",
     "checksum": "0cbe838a9b0e3df10199206cbb3e2a44",
     "grade": false,
     "grade_id": "rf",
     "locked": false,
     "schema_version": 3,
     "solution": true,
     "task": false
    }
   },
   "outputs": [],
   "source": [
    "# Store the classifier in a variable called clf_randomforest\n",
    "# YOUR CODE HERE\n",
    "raise NotImplementedError()"
   ]
  },
  {
   "cell_type": "code",
   "execution_count": null,
   "metadata": {
    "colab": {
     "base_uri": "https://localhost:8080/"
    },
    "deletable": false,
    "id": "PEacRaEq41Ac",
    "nbgrader": {
     "cell_type": "code",
     "checksum": "8f60bb5c5cda1cc5f9a4134aa2bd582c",
     "grade": false,
     "grade_id": "rf-fit-score",
     "locked": false,
     "schema_version": 3,
     "solution": true,
     "task": false
    },
    "outputId": "61624501-10f5-462b-8fd7-a87de75ca79a"
   },
   "outputs": [],
   "source": [
    "# Fit and score the classifier. Use the correct sets for training / testing.\n",
    "# Store the scoring result in the variable clf_randomforest_score.\n",
    "# Also print the score results variable for reference.\n",
    "# YOUR CODE HERE\n",
    "raise NotImplementedError()"
   ]
  },
  {
   "cell_type": "code",
   "execution_count": null,
   "metadata": {
    "deletable": false,
    "editable": false,
    "id": "Z0-mrlTK41Ac",
    "nbgrader": {
     "cell_type": "code",
     "checksum": "455d4261d3b77c1c75b2553c7b1e1530",
     "grade": true,
     "grade_id": "rf-test",
     "locked": true,
     "points": 2,
     "schema_version": 3,
     "solution": false,
     "task": false
    }
   },
   "outputs": [],
   "source": [
    "assert clf_randomforest.random_state == 10\n",
    "assert clf_randomforest_score > 0"
   ]
  },
  {
   "cell_type": "markdown",
   "metadata": {
    "deletable": false,
    "editable": false,
    "id": "KQnHlYQ441Ad",
    "nbgrader": {
     "cell_type": "markdown",
     "checksum": "2c83db560795422d8b406f718af0edfe",
     "grade": false,
     "grade_id": "cell-2176098469e35fab",
     "locked": true,
     "schema_version": 3,
     "solution": false,
     "task": false
    }
   },
   "source": [
    "## 10: Prediction\n",
    "\n",
    "Use the random forest classifier to predict the class of an unknown patient. Use the following measured features:\n",
    "`[[23.0,0.0,3.0,120.0,233.0,1.0,2.0,173.0,1.0,0.6,2.0,1.0,6.0]]`\n",
    "\n",
    "Store the results in a variable called `pred`. Also print the prediction for your reference.\n",
    "\n",
    "*Note:* you might get a warning stating that our supplied data doesn't have valid feature names, even though the model was fitted (trained) with feature names. We supplied the whole dataframe for training, including the header row that contained the feature names. Therefore, Scikit-Learn is now warning us that we need to be careful to have the same order of values, as we're now supplying raw data without any column labels. You can ignore this warning here. Possible solutions would be to add the feature labels to a dataframe for prediction as well, or training the classifier just with the values as a numpy array instead of the full dataframe."
   ]
  },
  {
   "cell_type": "code",
   "execution_count": null,
   "metadata": {
    "colab": {
     "base_uri": "https://localhost:8080/"
    },
    "deletable": false,
    "id": "fqEjl-Gb41Ad",
    "nbgrader": {
     "cell_type": "code",
     "checksum": "afbe565bc17ed3abefa99b3636442507",
     "grade": false,
     "grade_id": "predict",
     "locked": false,
     "schema_version": 3,
     "solution": true,
     "task": false
    },
    "outputId": "5770c898-0363-4d17-87e4-d09d9f62db93"
   },
   "outputs": [],
   "source": [
    "# Code to precict for the measurements listed above and store the result in the variable pred\n",
    "# Note: you can ignore the warning if you supply just the raw data and not a dataframe with feature names like the classifier was trained on.\n",
    "# YOUR CODE HERE\n",
    "raise NotImplementedError()"
   ]
  },
  {
   "cell_type": "code",
   "execution_count": null,
   "metadata": {
    "colab": {
     "base_uri": "https://localhost:8080/"
    },
    "deletable": false,
    "editable": false,
    "id": "LoTcEbVg41Ae",
    "nbgrader": {
     "cell_type": "code",
     "checksum": "d83d94bd21c938a1edf6aeafb20aab66",
     "grade": true,
     "grade_id": "predict-test",
     "locked": true,
     "points": 1,
     "schema_version": 3,
     "solution": false,
     "task": false
    },
    "outputId": "9fe331ab-efb4-4bc8-d5b5-1769ae27822c"
   },
   "outputs": [],
   "source": [
    "assert clf_randomforest.predict([[23.0,0.0,3.0,120.0,233.0,1.0,2.0,173.0,1.0,0.6,2.0,1.0,6.0]]) == [1], \"Result should be 1\""
   ]
  },
  {
   "cell_type": "markdown",
   "metadata": {
    "id": "ZrvA_L_r41An"
   },
   "source": [
    "Does the patient have heart disease? Assign `True` or `False` to the `heart_disease` variable, based on the prediction generated by the classifier."
   ]
  },
  {
   "cell_type": "code",
   "execution_count": null,
   "metadata": {
    "deletable": false,
    "id": "XfOst_oy41Ao",
    "nbgrader": {
     "cell_type": "code",
     "checksum": "669128280067da6052c08a85b09af5d6",
     "grade": false,
     "grade_id": "heart_disease-question",
     "locked": false,
     "schema_version": 3,
     "solution": true,
     "task": false
    }
   },
   "outputs": [],
   "source": [
    "# Does the patient have heart disease? -> True / False?\n",
    "heart_disease = -1\n",
    "# Assign the value to the variable above and remove the exception below\n",
    "# YOUR CODE HERE\n",
    "raise NotImplementedError()"
   ]
  },
  {
   "cell_type": "code",
   "execution_count": null,
   "metadata": {
    "deletable": false,
    "editable": false,
    "id": "Th1PkX_c41Ao",
    "nbgrader": {
     "cell_type": "code",
     "checksum": "2635709f20645f689e02158486e47eec",
     "grade": true,
     "grade_id": "heart_disease-test",
     "locked": true,
     "points": 2,
     "schema_version": 3,
     "solution": false,
     "task": false
    }
   },
   "outputs": [],
   "source": [
    "assert (heart_disease == True or heart_disease == False)"
   ]
  },
  {
   "cell_type": "markdown",
   "metadata": {
    "deletable": false,
    "editable": false,
    "id": "odcBSE1R41Ap",
    "nbgrader": {
     "cell_type": "markdown",
     "checksum": "9f64970ba81b15a20209ae193020c040",
     "grade": false,
     "grade_id": "cell-f99e8cf42d7f1661",
     "locked": true,
     "schema_version": 3,
     "solution": false,
     "task": false
    }
   },
   "source": [
    "## 11: Scaling\n",
    "\n",
    "Many classifiers like k-NN, Support Vector Machines and Neural Networks work best with scaled features. Therefore, we need to scale these to make the features more comparable. For example, k-NN computes the euclidian distance - as such, normalized / standardized feature values are important.\n",
    "\n",
    "Create the `StandardScaler`. Then use `fit_transform()` to analyze the training data and to scale it in one step. Afterwards, use `transform()` to scale the test data (this applies the same scaling that was learned from the training data).\n",
    "Make sure to save the scaled test + train data into new variables, e.g., `X_train_scaled` and `X_test_scaled`."
   ]
  },
  {
   "cell_type": "code",
   "execution_count": null,
   "metadata": {
    "deletable": false,
    "id": "JmVcPBIn41Aq",
    "nbgrader": {
     "cell_type": "code",
     "checksum": "b5d209cce2558b5be71a490c46021bee",
     "grade": false,
     "grade_id": "scaler-create",
     "locked": false,
     "schema_version": 3,
     "solution": true,
     "task": false
    }
   },
   "outputs": [],
   "source": [
    "# Create the standard scaler and store it in a variable called scaler\n",
    "# YOUR CODE HERE\n",
    "raise NotImplementedError()"
   ]
  },
  {
   "cell_type": "code",
   "execution_count": null,
   "metadata": {
    "deletable": false,
    "id": "eVIeObP-41Ar",
    "nbgrader": {
     "cell_type": "code",
     "checksum": "88bb1cdbc0354a7d7d8f4a20ef3f8627",
     "grade": false,
     "grade_id": "scaler-transform",
     "locked": false,
     "schema_version": 3,
     "solution": true,
     "task": false
    }
   },
   "outputs": [],
   "source": [
    "# Correctly scale the train and test data into X_train_scaled and X_test_scaled\n",
    "# YOUR CODE HERE\n",
    "raise NotImplementedError()"
   ]
  },
  {
   "cell_type": "code",
   "execution_count": null,
   "metadata": {
    "deletable": false,
    "editable": false,
    "id": "D-QkUpIH41Ar",
    "nbgrader": {
     "cell_type": "code",
     "checksum": "5eea2596868279beb124eeefd447f4e2",
     "grade": true,
     "grade_id": "scaler-test",
     "locked": true,
     "points": 4,
     "schema_version": 3,
     "solution": false,
     "task": false
    }
   },
   "outputs": [],
   "source": [
    "assert X_train_scaled.shape == (222,13)\n",
    "assert X_test_scaled.shape == (75,13)\n",
    "assert np.isclose(X_train_scaled[0][0], 1.0153, rtol=0.1), \"Should be close to 1.1053\""
   ]
  },
  {
   "cell_type": "markdown",
   "metadata": {
    "deletable": false,
    "editable": false,
    "id": "Z7uknDtD41As",
    "nbgrader": {
     "cell_type": "markdown",
     "checksum": "21be082558698138057accd326d5e97c",
     "grade": false,
     "grade_id": "cell-fbe29e21422df75e",
     "locked": true,
     "schema_version": 3,
     "solution": false,
     "task": false
    }
   },
   "source": [
    "## 12: k-NN Classification\n",
    "\n",
    "Create the `KNeighborsClassifier` and call the variable `clf_knn`. Use the default settings (which is 5 neighbors). Next, fit the classifier on the *scaled* training data and score it with the *scaled* test data. Store the result in a variable `clf_knn_score`."
   ]
  },
  {
   "cell_type": "code",
   "execution_count": null,
   "metadata": {
    "colab": {
     "base_uri": "https://localhost:8080/"
    },
    "deletable": false,
    "id": "WEbMmo6041As",
    "nbgrader": {
     "cell_type": "code",
     "checksum": "fe52d9abb1f390078a6ac1d0cc988279",
     "grade": false,
     "grade_id": "knn",
     "locked": false,
     "schema_version": 3,
     "solution": true,
     "task": false
    },
    "outputId": "e6d0b9b6-0bf1-40e3-c8bd-1eeaa04a5d76"
   },
   "outputs": [],
   "source": [
    "# Store the classifier in a variable clf_knn.\n",
    "# Save the scoring result in a variable clf_knn_score.\n",
    "# Print the score for your reference.\n",
    "# YOUR CODE HERE\n",
    "raise NotImplementedError()"
   ]
  },
  {
   "cell_type": "code",
   "execution_count": null,
   "metadata": {
    "deletable": false,
    "editable": false,
    "id": "_d4KSMMr41At",
    "nbgrader": {
     "cell_type": "code",
     "checksum": "7a2cbc6e2f8ba5d681f246d724a9f17f",
     "grade": true,
     "grade_id": "knn-test",
     "locked": true,
     "points": 2,
     "schema_version": 3,
     "solution": false,
     "task": false
    }
   },
   "outputs": [],
   "source": [
    "assert clf_knn.n_neighbors == 5\n",
    "assert clf_knn_score > 0"
   ]
  },
  {
   "cell_type": "markdown",
   "metadata": {
    "deletable": false,
    "editable": false,
    "id": "HTSFVFWs41At",
    "nbgrader": {
     "cell_type": "markdown",
     "checksum": "1d995341a95c6f226d86aba566ee8144",
     "grade": false,
     "grade_id": "cell-004abcc83c10cb9a",
     "locked": true,
     "schema_version": 3,
     "solution": false,
     "task": false
    }
   },
   "source": [
    "## 13: Support Vector Machine\n",
    "\n",
    "Create a support vector classifier for variable `clf_svc` (Hint: add to imports block at the beginning of the notebook: `from sklearn import svm`. Create the classifier in the following block using `svm.SVC`).\n",
    "\n",
    "Set `gamma` to `\"scale\"` and a random state of `10`.\n",
    "\n",
    "Next, fit the classifier on the *scaled* training data and score it with the *scaled* test data. Save the score in a variable `clf_svc_score`)."
   ]
  },
  {
   "cell_type": "code",
   "execution_count": null,
   "metadata": {
    "deletable": false,
    "id": "pK-eHmTV41At",
    "nbgrader": {
     "cell_type": "code",
     "checksum": "d314d4e3539f699f3159d6b136fc3674",
     "grade": false,
     "grade_id": "svc-create",
     "locked": false,
     "schema_version": 3,
     "solution": true,
     "task": false
    }
   },
   "outputs": [],
   "source": [
    "# Store the classifier in a variable called clf_svc\n",
    "# YOUR CODE HERE\n",
    "raise NotImplementedError()"
   ]
  },
  {
   "cell_type": "code",
   "execution_count": null,
   "metadata": {
    "colab": {
     "base_uri": "https://localhost:8080/"
    },
    "deletable": false,
    "id": "LMsBnYy-41Au",
    "nbgrader": {
     "cell_type": "code",
     "checksum": "132355206e37325e00c70e0a992322d8",
     "grade": false,
     "grade_id": "svc-fit",
     "locked": false,
     "schema_version": 3,
     "solution": true,
     "task": false
    },
    "outputId": "183ef936-9f04-40fd-a15b-e0738cb57f0b"
   },
   "outputs": [],
   "source": [
    "# Fit the classifier to the scaled training data\n",
    "# YOUR CODE HERE\n",
    "raise NotImplementedError()"
   ]
  },
  {
   "cell_type": "code",
   "execution_count": null,
   "metadata": {
    "colab": {
     "base_uri": "https://localhost:8080/"
    },
    "deletable": false,
    "id": "39XpRaRK41Au",
    "nbgrader": {
     "cell_type": "code",
     "checksum": "bd97eb2815a9fa40016ee9083a363d21",
     "grade": false,
     "grade_id": "svc-score",
     "locked": false,
     "schema_version": 3,
     "solution": true,
     "task": false
    },
    "outputId": "f54ed8f5-ff41-40f2-95ac-f435cd405224"
   },
   "outputs": [],
   "source": [
    "# Score the classifier and assign the score to a variable called clf_svc_score.\n",
    "# Print the score for your reference.\n",
    "# YOUR CODE HERE\n",
    "raise NotImplementedError()"
   ]
  },
  {
   "cell_type": "code",
   "execution_count": null,
   "metadata": {
    "deletable": false,
    "editable": false,
    "id": "UbRzM87041Av",
    "nbgrader": {
     "cell_type": "code",
     "checksum": "ddab1cee05a68fb62a29160d107fc2c6",
     "grade": true,
     "grade_id": "svc-test",
     "locked": true,
     "points": 2,
     "schema_version": 3,
     "solution": false,
     "task": false
    }
   },
   "outputs": [],
   "source": [
    "assert clf_svc.random_state == 10\n",
    "assert clf_svc_score > 0"
   ]
  },
  {
   "cell_type": "markdown",
   "metadata": {
    "deletable": false,
    "editable": false,
    "id": "pAd5iYfY41Av",
    "nbgrader": {
     "cell_type": "markdown",
     "checksum": "381588cfede08ad054bc64b7b0afee8d",
     "grade": false,
     "grade_id": "cell-680c187bb95c14cf",
     "locked": true,
     "schema_version": 3,
     "solution": false,
     "task": false
    }
   },
   "source": [
    "## 14: Neural Network\n",
    "\n",
    "As a final classifier, create a neural network (multi-layer perceptron; add to the import block above: `from sklearn.neural_network import MLPClassifier`). As before, specify the random_state of `10`. Use `2000` maximum iterations when configuring the classifier (`max_iter`). Again, fit and score the classifier on the *scaled* data. Store the scoring result in `clf_mlp_score`."
   ]
  },
  {
   "cell_type": "code",
   "execution_count": null,
   "metadata": {
    "deletable": false,
    "id": "oLS9I__M41Aw",
    "nbgrader": {
     "cell_type": "code",
     "checksum": "4474d79874b982df75edd5c7f318a0f0",
     "grade": false,
     "grade_id": "mlp-init",
     "locked": false,
     "schema_version": 3,
     "solution": true,
     "task": false
    }
   },
   "outputs": [],
   "source": [
    "# Store classifier in variable called clf_mlp\n",
    "# YOUR CODE HERE\n",
    "raise NotImplementedError()"
   ]
  },
  {
   "cell_type": "code",
   "execution_count": null,
   "metadata": {
    "colab": {
     "base_uri": "https://localhost:8080/"
    },
    "deletable": false,
    "id": "889Egrsx41Aw",
    "nbgrader": {
     "cell_type": "code",
     "checksum": "954be71674f21ae638f7546b2566f66d",
     "grade": false,
     "grade_id": "mlp-fit",
     "locked": false,
     "schema_version": 3,
     "solution": true,
     "task": false
    },
    "outputId": "0dc23f05-5a39-43d4-bafb-776d1bb60d86"
   },
   "outputs": [],
   "source": [
    "# YOUR CODE HERE\n",
    "raise NotImplementedError()"
   ]
  },
  {
   "cell_type": "code",
   "execution_count": null,
   "metadata": {
    "colab": {
     "base_uri": "https://localhost:8080/"
    },
    "deletable": false,
    "id": "UktLP8Sh41Aw",
    "nbgrader": {
     "cell_type": "code",
     "checksum": "76cbf1c60b5bce14e71614a3eb4db823",
     "grade": false,
     "grade_id": "mlp-score",
     "locked": false,
     "schema_version": 3,
     "solution": true,
     "task": false
    },
    "outputId": "b2f0e7d3-6129-4f45-a675-6b43762ea50e"
   },
   "outputs": [],
   "source": [
    "# Score the classifier and assign the score to a variable called clf_mlp_score\n",
    "# Also print the score for your reference.\n",
    "# YOUR CODE HERE\n",
    "raise NotImplementedError()"
   ]
  },
  {
   "cell_type": "code",
   "execution_count": null,
   "metadata": {
    "deletable": false,
    "editable": false,
    "id": "Xpr1vFqS41Aw",
    "nbgrader": {
     "cell_type": "code",
     "checksum": "c3efce6146ee4a5529e8aa5781de4868",
     "grade": true,
     "grade_id": "mlp-test",
     "locked": true,
     "points": 2,
     "schema_version": 3,
     "solution": false,
     "task": false
    }
   },
   "outputs": [],
   "source": [
    "assert clf_mlp_score > 0\n",
    "assert clf_mlp.random_state == 10"
   ]
  },
  {
   "cell_type": "markdown",
   "metadata": {
    "deletable": false,
    "editable": false,
    "id": "9hpyLmX141Ax",
    "nbgrader": {
     "cell_type": "markdown",
     "checksum": "8b64bd1ed93a2cc2fef8e485dc691404",
     "grade": false,
     "grade_id": "cell-f3b904833da5d331",
     "locked": true,
     "schema_version": 3,
     "solution": false,
     "task": false
    }
   },
   "source": [
    "## 15: Final Checks & the best classifier\n",
    "\n",
    "To make sure that your whole Jupyter Notebook executes without issues, choose *Kernel/Runtime -> Restart Kernel and Run All Cells...*. Make sure it actually restarts executing all cells - if not, select the command again. Make sure all the lines you wrote execute and that you get the scores.\n",
    "\n",
    "Answer in the following code block: which classifier got the highest accuracy for the data? Store your answer in a variable called `best_classifier` according to:\n",
    "\n",
    "\n",
    "\n",
    "1.   Decision Tree\n",
    "2.   Random Forest\n",
    "3.   k-Nearest Neighbor\n",
    "4.   Support Vector Machine\n",
    "5.   Multi-Layer Perceptron (Neural Network)\n",
    "\n"
   ]
  },
  {
   "cell_type": "code",
   "execution_count": null,
   "metadata": {
    "deletable": false,
    "id": "q3iDTfNG41Ax",
    "nbgrader": {
     "cell_type": "code",
     "checksum": "3ed08b01bfa857959c3664efc693038d",
     "grade": false,
     "grade_id": "best-classifier",
     "locked": false,
     "schema_version": 3,
     "solution": true,
     "task": false
    }
   },
   "outputs": [],
   "source": [
    "# Change the variable best_classifier to a number according\n",
    "# to the reference above.\n",
    "best_classifier = -1\n",
    "# Once you've updated the variable, delete the exception line below\n",
    "# YOUR CODE HERE\n",
    "raise NotImplementedError()"
   ]
  },
  {
   "cell_type": "code",
   "execution_count": null,
   "metadata": {
    "deletable": false,
    "editable": false,
    "id": "pXjeMcfK41Ax",
    "nbgrader": {
     "cell_type": "code",
     "checksum": "9feefddc7ecefbb54bac640c10fe85ef",
     "grade": true,
     "grade_id": "best-classifier-test",
     "locked": true,
     "points": 3,
     "schema_version": 3,
     "solution": false,
     "task": false
    }
   },
   "outputs": [],
   "source": [
    "assert best_classifier != -1"
   ]
  }
 ],
 "metadata": {
  "colab": {
   "collapsed_sections": [],
   "name": "ex-heart-disease-22ss.ipynb",
   "provenance": []
  },
  "kernelspec": {
   "display_name": "Python 3 (ipykernel)",
   "language": "python",
   "name": "python3"
  },
  "language_info": {
   "codemirror_mode": {
    "name": "ipython",
    "version": 3
   },
   "file_extension": ".py",
   "mimetype": "text/x-python",
   "name": "python",
   "nbconvert_exporter": "python",
   "pygments_lexer": "ipython3",
   "version": "3.10.10"
  }
 },
 "nbformat": 4,
 "nbformat_minor": 4
}
